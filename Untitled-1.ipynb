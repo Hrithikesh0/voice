{
 "cells": [
  {
   "cell_type": "code",
   "execution_count": 11,
   "metadata": {},
   "outputs": [],
   "source": []
  },
  {
   "cell_type": "code",
   "execution_count": 13,
   "metadata": {},
   "outputs": [],
   "source": []
  },
  {
   "cell_type": "code",
   "execution_count": 10,
   "metadata": {},
   "outputs": [],
   "source": [
    "\n",
    "\n",
    "\n",
    "\n",
    "f = open(\"static/Main.js\")\n",
    "temp = []\n",
    "s = False\n",
    "for line in f:\n",
    "    if \"<dynamic data>\" in line:\n",
    "        s = True\n",
    "\n",
    "    if s:\n",
    "        temp.append(line)\n",
    "\n",
    "f.close()\n",
    "\n",
    "\n",
    "fr = open(\"data.csv\")\n",
    "\n",
    "cols = fr.readline().replace(\"\\n\", \"\")\n",
    "\n",
    "data = [line.replace(\"\\n\", \"\").split(\",\") for line in fr]\n",
    "\n",
    "fr.close()\n",
    "\n",
    "fw = open(\"static/Main.js\", \"w\")\n",
    "\n",
    "fw.write(\"window.onload = function(){\")\n",
    "fw.write(f\"\"\"\n",
    "    var data_cols = {cols.split(\",\")}\n",
    "    var wedlock_data = {data}\n",
    "    \n",
    "    \n",
    "    \"\"\")\n",
    "\n",
    "\n",
    "for line in temp:\n",
    "    fw.write(line)\n",
    "fw.close()"
   ]
  },
  {
   "cell_type": "code",
   "execution_count": 9,
   "metadata": {},
   "outputs": [
    {
     "data": {
      "text/plain": [
       "[['u1', 'c1', 'l1'], ['u2', 'c2', 'l2']]"
      ]
     },
     "execution_count": 9,
     "metadata": {},
     "output_type": "execute_result"
    }
   ],
   "source": [
    "data"
   ]
  },
  {
   "cell_type": "code",
   "execution_count": null,
   "metadata": {},
   "outputs": [],
   "source": []
  }
 ],
 "metadata": {
  "interpreter": {
   "hash": "ac59ebe37160ed0dfa835113d9b8498d9f09ceb179beaac4002f036b9467c963"
  },
  "kernelspec": {
   "display_name": "Python 3.9.5 64-bit",
   "name": "python3"
  },
  "language_info": {
   "codemirror_mode": {
    "name": "ipython",
    "version": 3
   },
   "file_extension": ".py",
   "mimetype": "text/x-python",
   "name": "python",
   "nbconvert_exporter": "python",
   "pygments_lexer": "ipython3",
   "version": "3.9.5"
  },
  "orig_nbformat": 4
 },
 "nbformat": 4,
 "nbformat_minor": 2
}
